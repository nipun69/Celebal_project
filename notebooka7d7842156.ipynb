{
 "cells": [
  {
   "cell_type": "code",
   "execution_count": 4,
   "metadata": {
    "execution": {
     "iopub.execute_input": "2025-06-26T00:23:55.521044Z",
     "iopub.status.busy": "2025-06-26T00:23:55.520696Z",
     "iopub.status.idle": "2025-06-26T00:23:56.729582Z",
     "shell.execute_reply": "2025-06-26T00:23:56.72837Z",
     "shell.execute_reply.started": "2025-06-26T00:23:55.521023Z"
    },
    "id": "se4E3k2Hvoi-",
    "trusted": true
   },
   "outputs": [],
   "source": [
    "import pandas as pd\n",
    "import numpy as np\n",
    "import matplotlib.pyplot as plt\n",
    "import seaborn as sns\n",
    "import warnings\n",
    "warnings.filterwarnings('ignore')"
   ]
  },
  {
   "cell_type": "code",
   "execution_count": 7,
   "metadata": {
    "execution": {
     "iopub.execute_input": "2025-06-26T00:23:59.376335Z",
     "iopub.status.busy": "2025-06-26T00:23:59.375724Z",
     "iopub.status.idle": "2025-06-26T00:24:44.036639Z",
     "shell.execute_reply": "2025-06-26T00:24:44.035662Z",
     "shell.execute_reply.started": "2025-06-26T00:23:59.376299Z"
    },
    "id": "Y_XWtUXSw6RJ",
    "trusted": true
   },
   "outputs": [],
   "source": [
    "df=pd.read_excel('C:/Users/nipun/Downloads/online_retail_II.xlsx/online_retail_II.xlsx' , sheet_name= 'Year 2009-2010')"
   ]
  },
  {
   "cell_type": "code",
   "execution_count": 8,
   "metadata": {
    "execution": {
     "iopub.execute_input": "2025-06-26T00:24:47.670592Z",
     "iopub.status.busy": "2025-06-26T00:24:47.670226Z",
     "iopub.status.idle": "2025-06-26T00:24:47.789843Z",
     "shell.execute_reply": "2025-06-26T00:24:47.788966Z",
     "shell.execute_reply.started": "2025-06-26T00:24:47.67057Z"
    },
    "id": "DxSdFtNbxqAo",
    "outputId": "b0ecaa57-043b-4abf-f14e-573e3aa76ff9",
    "trusted": true
   },
   "outputs": [
    {
     "data": {
      "application/vnd.microsoft.datawrangler.viewer.v0+json": {
       "columns": [
        {
         "name": "index",
         "rawType": "int64",
         "type": "integer"
        },
        {
         "name": "Invoice",
         "rawType": "object",
         "type": "unknown"
        },
        {
         "name": "StockCode",
         "rawType": "object",
         "type": "unknown"
        },
        {
         "name": "Description",
         "rawType": "object",
         "type": "string"
        },
        {
         "name": "Quantity",
         "rawType": "int64",
         "type": "integer"
        },
        {
         "name": "InvoiceDate",
         "rawType": "datetime64[ns]",
         "type": "datetime"
        },
        {
         "name": "Price",
         "rawType": "float64",
         "type": "float"
        },
        {
         "name": "Customer ID",
         "rawType": "float64",
         "type": "float"
        },
        {
         "name": "Country",
         "rawType": "object",
         "type": "string"
        }
       ],
       "ref": "641c9379-4d8a-43ed-a08c-0224d9eb4006",
       "rows": [
        [
         "0",
         "489434",
         "85048",
         "15CM CHRISTMAS GLASS BALL 20 LIGHTS",
         "12",
         "2009-12-01 07:45:00",
         "6.95",
         "13085.0",
         "United Kingdom"
        ],
        [
         "1",
         "489434",
         "79323P",
         "PINK CHERRY LIGHTS",
         "12",
         "2009-12-01 07:45:00",
         "6.75",
         "13085.0",
         "United Kingdom"
        ],
        [
         "2",
         "489434",
         "79323W",
         " WHITE CHERRY LIGHTS",
         "12",
         "2009-12-01 07:45:00",
         "6.75",
         "13085.0",
         "United Kingdom"
        ],
        [
         "3",
         "489434",
         "22041",
         "RECORD FRAME 7\" SINGLE SIZE ",
         "48",
         "2009-12-01 07:45:00",
         "2.1",
         "13085.0",
         "United Kingdom"
        ],
        [
         "4",
         "489434",
         "21232",
         "STRAWBERRY CERAMIC TRINKET BOX",
         "24",
         "2009-12-01 07:45:00",
         "1.25",
         "13085.0",
         "United Kingdom"
        ]
       ],
       "shape": {
        "columns": 8,
        "rows": 5
       }
      },
      "text/html": [
       "<div>\n",
       "<style scoped>\n",
       "    .dataframe tbody tr th:only-of-type {\n",
       "        vertical-align: middle;\n",
       "    }\n",
       "\n",
       "    .dataframe tbody tr th {\n",
       "        vertical-align: top;\n",
       "    }\n",
       "\n",
       "    .dataframe thead th {\n",
       "        text-align: right;\n",
       "    }\n",
       "</style>\n",
       "<table border=\"1\" class=\"dataframe\">\n",
       "  <thead>\n",
       "    <tr style=\"text-align: right;\">\n",
       "      <th></th>\n",
       "      <th>Invoice</th>\n",
       "      <th>StockCode</th>\n",
       "      <th>Description</th>\n",
       "      <th>Quantity</th>\n",
       "      <th>InvoiceDate</th>\n",
       "      <th>Price</th>\n",
       "      <th>Customer ID</th>\n",
       "      <th>Country</th>\n",
       "    </tr>\n",
       "  </thead>\n",
       "  <tbody>\n",
       "    <tr>\n",
       "      <th>0</th>\n",
       "      <td>489434</td>\n",
       "      <td>85048</td>\n",
       "      <td>15CM CHRISTMAS GLASS BALL 20 LIGHTS</td>\n",
       "      <td>12</td>\n",
       "      <td>2009-12-01 07:45:00</td>\n",
       "      <td>6.95</td>\n",
       "      <td>13085.0</td>\n",
       "      <td>United Kingdom</td>\n",
       "    </tr>\n",
       "    <tr>\n",
       "      <th>1</th>\n",
       "      <td>489434</td>\n",
       "      <td>79323P</td>\n",
       "      <td>PINK CHERRY LIGHTS</td>\n",
       "      <td>12</td>\n",
       "      <td>2009-12-01 07:45:00</td>\n",
       "      <td>6.75</td>\n",
       "      <td>13085.0</td>\n",
       "      <td>United Kingdom</td>\n",
       "    </tr>\n",
       "    <tr>\n",
       "      <th>2</th>\n",
       "      <td>489434</td>\n",
       "      <td>79323W</td>\n",
       "      <td>WHITE CHERRY LIGHTS</td>\n",
       "      <td>12</td>\n",
       "      <td>2009-12-01 07:45:00</td>\n",
       "      <td>6.75</td>\n",
       "      <td>13085.0</td>\n",
       "      <td>United Kingdom</td>\n",
       "    </tr>\n",
       "    <tr>\n",
       "      <th>3</th>\n",
       "      <td>489434</td>\n",
       "      <td>22041</td>\n",
       "      <td>RECORD FRAME 7\" SINGLE SIZE</td>\n",
       "      <td>48</td>\n",
       "      <td>2009-12-01 07:45:00</td>\n",
       "      <td>2.10</td>\n",
       "      <td>13085.0</td>\n",
       "      <td>United Kingdom</td>\n",
       "    </tr>\n",
       "    <tr>\n",
       "      <th>4</th>\n",
       "      <td>489434</td>\n",
       "      <td>21232</td>\n",
       "      <td>STRAWBERRY CERAMIC TRINKET BOX</td>\n",
       "      <td>24</td>\n",
       "      <td>2009-12-01 07:45:00</td>\n",
       "      <td>1.25</td>\n",
       "      <td>13085.0</td>\n",
       "      <td>United Kingdom</td>\n",
       "    </tr>\n",
       "  </tbody>\n",
       "</table>\n",
       "</div>"
      ],
      "text/plain": [
       "  Invoice StockCode                          Description  Quantity  \\\n",
       "0  489434     85048  15CM CHRISTMAS GLASS BALL 20 LIGHTS        12   \n",
       "1  489434    79323P                   PINK CHERRY LIGHTS        12   \n",
       "2  489434    79323W                  WHITE CHERRY LIGHTS        12   \n",
       "3  489434     22041         RECORD FRAME 7\" SINGLE SIZE         48   \n",
       "4  489434     21232       STRAWBERRY CERAMIC TRINKET BOX        24   \n",
       "\n",
       "          InvoiceDate  Price  Customer ID         Country  \n",
       "0 2009-12-01 07:45:00   6.95      13085.0  United Kingdom  \n",
       "1 2009-12-01 07:45:00   6.75      13085.0  United Kingdom  \n",
       "2 2009-12-01 07:45:00   6.75      13085.0  United Kingdom  \n",
       "3 2009-12-01 07:45:00   2.10      13085.0  United Kingdom  \n",
       "4 2009-12-01 07:45:00   1.25      13085.0  United Kingdom  "
      ]
     },
     "execution_count": 8,
     "metadata": {},
     "output_type": "execute_result"
    }
   ],
   "source": [
    "df.head()"
   ]
  },
  {
   "cell_type": "code",
   "execution_count": 9,
   "metadata": {
    "execution": {
     "iopub.execute_input": "2025-06-26T00:24:47.867073Z",
     "iopub.status.busy": "2025-06-26T00:24:47.866727Z",
     "iopub.status.idle": "2025-06-26T00:24:47.975813Z",
     "shell.execute_reply": "2025-06-26T00:24:47.974915Z",
     "shell.execute_reply.started": "2025-06-26T00:24:47.867049Z"
    },
    "id": "CgUtu2ovyQ7i",
    "outputId": "bd4a2fa7-6933-4025-8c33-892755311b26",
    "trusted": true
   },
   "outputs": [
    {
     "name": "stdout",
     "output_type": "stream",
     "text": [
      "<class 'pandas.core.frame.DataFrame'>\n",
      "RangeIndex: 525461 entries, 0 to 525460\n",
      "Data columns (total 8 columns):\n",
      " #   Column       Non-Null Count   Dtype         \n",
      "---  ------       --------------   -----         \n",
      " 0   Invoice      525461 non-null  object        \n",
      " 1   StockCode    525461 non-null  object        \n",
      " 2   Description  522533 non-null  object        \n",
      " 3   Quantity     525461 non-null  int64         \n",
      " 4   InvoiceDate  525461 non-null  datetime64[ns]\n",
      " 5   Price        525461 non-null  float64       \n",
      " 6   Customer ID  417534 non-null  float64       \n",
      " 7   Country      525461 non-null  object        \n",
      "dtypes: datetime64[ns](1), float64(2), int64(1), object(4)\n",
      "memory usage: 32.1+ MB\n"
     ]
    }
   ],
   "source": [
    "df.info()"
   ]
  },
  {
   "cell_type": "code",
   "execution_count": 10,
   "metadata": {
    "execution": {
     "iopub.execute_input": "2025-06-26T00:24:48.042895Z",
     "iopub.status.busy": "2025-06-26T00:24:48.042595Z",
     "iopub.status.idle": "2025-06-26T00:24:48.06617Z",
     "shell.execute_reply": "2025-06-26T00:24:48.065132Z",
     "shell.execute_reply.started": "2025-06-26T00:24:48.042869Z"
    },
    "id": "3QE1WWbcyUjO",
    "outputId": "347f1cf7-5586-465d-f663-c74aaa460a3b",
    "trusted": true
   },
   "outputs": [
    {
     "data": {
      "text/plain": [
       "28816"
      ]
     },
     "execution_count": 10,
     "metadata": {},
     "output_type": "execute_result"
    }
   ],
   "source": [
    "df['Invoice'].nunique()"
   ]
  },
  {
   "cell_type": "markdown",
   "metadata": {
    "id": "ri_P3UnH0ZLC"
   },
   "source": [
    "**Dropping The null Customer ID's rows**"
   ]
  },
  {
   "cell_type": "code",
   "execution_count": 11,
   "metadata": {
    "execution": {
     "iopub.execute_input": "2025-06-26T00:24:48.376028Z",
     "iopub.status.busy": "2025-06-26T00:24:48.375686Z",
     "iopub.status.idle": "2025-06-26T00:24:48.414834Z",
     "shell.execute_reply": "2025-06-26T00:24:48.414134Z",
     "shell.execute_reply.started": "2025-06-26T00:24:48.376007Z"
    },
    "id": "yI-vXz3rycNZ",
    "trusted": true
   },
   "outputs": [],
   "source": [
    "df= df.dropna(subset=['Customer ID'])"
   ]
  },
  {
   "cell_type": "markdown",
   "metadata": {
    "id": "hRfSH7HA19NF"
   },
   "source": [
    "**Remove negative Quantity and UnitPrice**"
   ]
  },
  {
   "cell_type": "code",
   "execution_count": 12,
   "metadata": {
    "execution": {
     "iopub.execute_input": "2025-06-26T00:24:48.693954Z",
     "iopub.status.busy": "2025-06-26T00:24:48.693658Z",
     "iopub.status.idle": "2025-06-26T00:24:48.737962Z",
     "shell.execute_reply": "2025-06-26T00:24:48.736671Z",
     "shell.execute_reply.started": "2025-06-26T00:24:48.69393Z"
    },
    "id": "5JLnNrK011rk",
    "trusted": true
   },
   "outputs": [],
   "source": [
    "df=df[(df['Quantity']>0) & (df['Price']>0)]"
   ]
  },
  {
   "cell_type": "markdown",
   "metadata": {
    "id": "rVopA0Ye2khd"
   },
   "source": [
    "**Checking For Duplicates**"
   ]
  },
  {
   "cell_type": "code",
   "execution_count": 13,
   "metadata": {
    "execution": {
     "iopub.execute_input": "2025-06-26T00:24:49.016915Z",
     "iopub.status.busy": "2025-06-26T00:24:49.016576Z",
     "iopub.status.idle": "2025-06-26T00:24:49.208748Z",
     "shell.execute_reply": "2025-06-26T00:24:49.207918Z",
     "shell.execute_reply.started": "2025-06-26T00:24:49.016892Z"
    },
    "id": "L9ubSVOz2Nht",
    "outputId": "15cb10a2-1f44-4a07-9baa-d006ab3a8777",
    "trusted": true
   },
   "outputs": [
    {
     "data": {
      "text/plain": [
       "6748"
      ]
     },
     "execution_count": 13,
     "metadata": {},
     "output_type": "execute_result"
    }
   ],
   "source": [
    "df.duplicated().sum()"
   ]
  },
  {
   "cell_type": "code",
   "execution_count": 14,
   "metadata": {
    "execution": {
     "iopub.execute_input": "2025-06-26T00:24:49.210842Z",
     "iopub.status.busy": "2025-06-26T00:24:49.210439Z",
     "iopub.status.idle": "2025-06-26T00:24:49.403831Z",
     "shell.execute_reply": "2025-06-26T00:24:49.402909Z",
     "shell.execute_reply.started": "2025-06-26T00:24:49.210809Z"
    },
    "id": "F3pIRD2P20UL",
    "trusted": true
   },
   "outputs": [],
   "source": [
    "df.drop_duplicates(inplace=True)"
   ]
  },
  {
   "cell_type": "code",
   "execution_count": 15,
   "metadata": {
    "execution": {
     "iopub.execute_input": "2025-06-26T00:24:49.405321Z",
     "iopub.status.busy": "2025-06-26T00:24:49.40508Z",
     "iopub.status.idle": "2025-06-26T00:24:49.586213Z",
     "shell.execute_reply": "2025-06-26T00:24:49.58492Z",
     "shell.execute_reply.started": "2025-06-26T00:24:49.405303Z"
    },
    "id": "nWfj3NcX24j-",
    "outputId": "5a10b3cf-1410-48f4-824c-a1c1e331c295",
    "trusted": true
   },
   "outputs": [
    {
     "data": {
      "text/plain": [
       "0"
      ]
     },
     "execution_count": 15,
     "metadata": {},
     "output_type": "execute_result"
    }
   ],
   "source": [
    "df.duplicated().sum()"
   ]
  },
  {
   "cell_type": "markdown",
   "metadata": {
    "id": "K8Tn5gj16s27"
   },
   "source": [
    "**Feature Engineering: RFM Analysis**"
   ]
  },
  {
   "cell_type": "code",
   "execution_count": 16,
   "metadata": {
    "execution": {
     "iopub.execute_input": "2025-06-26T00:24:49.669083Z",
     "iopub.status.busy": "2025-06-26T00:24:49.668816Z",
     "iopub.status.idle": "2025-06-26T00:24:50.059559Z",
     "shell.execute_reply": "2025-06-26T00:24:50.058721Z",
     "shell.execute_reply.started": "2025-06-26T00:24:49.669064Z"
    },
    "id": "GeUJ1PqG27td",
    "trusted": true
   },
   "outputs": [],
   "source": [
    "import datetime as dt\n",
    "\n",
    "df['TotalPrice'] = df['Quantity'] * df['Price']\n",
    "snapshot_data= df['InvoiceDate'].max() + pd.Timedelta(days=1)\n",
    "\n",
    "rfm= df.groupby('Customer ID').agg({\n",
    "    'InvoiceDate': lambda x: (snapshot_data - x.max()).days, #Recency\n",
    "    'Invoice' : 'nunique',                                   #Frequency\n",
    "    'TotalPrice' : 'sum'                                     #Monetary\n",
    "})\n",
    "rfm.columns= ['Recency', 'Frequency', 'Monetary']\n",
    "rfm=rfm[(rfm['Monetary']>0)]"
   ]
  },
  {
   "cell_type": "markdown",
   "metadata": {
    "id": "QoDRWmT3-R83"
   },
   "source": [
    "# Data Visualization"
   ]
  },
  {
   "cell_type": "markdown",
   "metadata": {
    "id": "1xGyUEBd-Zuk"
   },
   "source": [
    "**Distribution Plots**"
   ]
  },
  {
   "cell_type": "code",
   "execution_count": 17,
   "metadata": {
    "execution": {
     "iopub.execute_input": "2025-06-26T00:24:54.828837Z",
     "iopub.status.busy": "2025-06-26T00:24:54.8285Z",
     "iopub.status.idle": "2025-06-26T00:24:55.814409Z",
     "shell.execute_reply": "2025-06-26T00:24:55.813521Z",
     "shell.execute_reply.started": "2025-06-26T00:24:54.828802Z"
    },
    "id": "rpQ2wKQJ-K41",
    "outputId": "db7d726c-2e6b-4560-c521-e1e5a7141264",
    "trusted": true
   },
   "outputs": [
    {
     "data": {
      "image/png": "[encoded data removed]",
      "text/plain": [
       "<Figure size 1800x500 with 3 Axes>"
      ]
     },
     "metadata": {},
     "output_type": "display_data"
    }
   ],
   "source": [
    "fig, axs= plt.subplots(1,3, figsize=(18,5))\n",
    "sns.histplot(rfm['Recency'] , bins=40 , ax=axs[0] , kde=True)\n",
    "axs[0].set_title('Recency Distribution')\n",
    "\n",
    "sns.histplot(rfm['Frequency'] , bins=40 , ax=axs[1] , kde= True)\n",
    "axs[1].set_title('Frequency Distribution')\n",
    "\n",
    "sns.histplot(rfm['Monetary'] , bins=40 , ax=axs[2] , kde=True)\n",
    "axs[2].set_title('Monetary Distribution')\n",
    "\n",
    "\n",
    "plt.tight_layout()\n",
    "plt.show()"
   ]
  },
  {
   "cell_type": "markdown",
   "metadata": {
    "id": "JCItFj3nAYTV"
   },
   "source": [
    "**Saclaing The Data**"
   ]
  },
  {
   "cell_type": "code",
   "execution_count": 18,
   "metadata": {
    "execution": {
     "iopub.execute_input": "2025-06-26T00:24:57.040869Z",
     "iopub.status.busy": "2025-06-26T00:24:57.040585Z",
     "iopub.status.idle": "2025-06-26T00:24:57.139045Z",
     "shell.execute_reply": "2025-06-26T00:24:57.137971Z",
     "shell.execute_reply.started": "2025-06-26T00:24:57.040849Z"
    },
    "id": "oXzsekSK_6_W",
    "trusted": true
   },
   "outputs": [],
   "source": [
    "from sklearn.preprocessing import StandardScaler\n",
    "\n",
    "scaler=StandardScaler()\n",
    "rfm_scaled= pd.DataFrame(scaler.fit_transform(rfm), columns=rfm.columns)"
   ]
  },
  {
   "cell_type": "markdown",
   "metadata": {
    "id": "bNQzyfDKBN28"
   },
   "source": [
    "# Kmeans"
   ]
  },
  {
   "cell_type": "code",
   "execution_count": 19,
   "metadata": {
    "execution": {
     "iopub.execute_input": "2025-06-26T00:24:59.72032Z",
     "iopub.status.busy": "2025-06-26T00:24:59.720051Z",
     "iopub.status.idle": "2025-06-26T00:25:00.981637Z",
     "shell.execute_reply": "2025-06-26T00:25:00.980451Z",
     "shell.execute_reply.started": "2025-06-26T00:24:59.720303Z"
    },
    "id": "WkobSmZQApXq",
    "outputId": "73fdbdbc-08fa-4655-964e-c8954e25f579",
    "trusted": true
   },
   "outputs": [
    {
     "data": {
      "image/png": "[encoded data removed]",
      "text/plain": [
       "<Figure size 800x400 with 1 Axes>"
      ]
     },
     "metadata": {},
     "output_type": "display_data"
    }
   ],
   "source": [
    "from sklearn.cluster import KMeans\n",
    "\n",
    "inertia = []\n",
    "K = range(1,11)\n",
    "\n",
    "for k in K:\n",
    "    kmeans = KMeans(n_clusters=k ,init='k-means++' ,random_state=42)\n",
    "    kmeans.fit(rfm_scaled)\n",
    "    inertia.append(kmeans.inertia_)\n",
    "plt.figure(figsize=(8,4))\n",
    "plt.plot(K, inertia , 'bo-')\n",
    "plt.xlabel(\"Number of CLsuters (k)\")\n",
    "plt.ylabel('Inertia')\n",
    "plt.title('Elbow Method for optimal K')\n",
    "plt.grid(True)\n",
    "plt.show()"
   ]
  },
  {
   "cell_type": "code",
   "execution_count": 20,
   "metadata": {
    "execution": {
     "iopub.execute_input": "2025-06-26T00:25:00.982999Z",
     "iopub.status.busy": "2025-06-26T00:25:00.982774Z",
     "iopub.status.idle": "2025-06-26T00:25:01.051217Z",
     "shell.execute_reply": "2025-06-26T00:25:01.050356Z",
     "shell.execute_reply.started": "2025-06-26T00:25:00.982974Z"
    },
    "id": "vBGHPEO4DIPo",
    "trusted": true
   },
   "outputs": [],
   "source": [
    "kmeans = KMeans(n_clusters=4 , init='k-means++' , random_state = 42)\n",
    "rfm['Cluster'] = kmeans.fit_predict(rfm_scaled)"
   ]
  },
  {
   "cell_type": "markdown",
   "metadata": {
    "id": "nkRzyNySE-3M"
   },
   "source": [
    "**Using 2D PCA for cluster visualization**"
   ]
  },
  {
   "cell_type": "code",
   "execution_count": 21,
   "metadata": {
    "execution": {
     "iopub.execute_input": "2025-06-26T00:25:01.594974Z",
     "iopub.status.busy": "2025-06-26T00:25:01.594569Z",
     "iopub.status.idle": "2025-06-26T00:25:02.023771Z",
     "shell.execute_reply": "2025-06-26T00:25:02.022668Z",
     "shell.execute_reply.started": "2025-06-26T00:25:01.594945Z"
    },
    "id": "BslZNtxCE4k2",
    "outputId": "f8843400-3202-4905-80f5-4cde264aa254",
    "trusted": true
   },
   "outputs": [
    {
     "data": {
      "image/png": "[encoded data removed]",
      "text/plain": [
       "<Figure size 800x600 with 1 Axes>"
      ]
     },
     "metadata": {},
     "output_type": "display_data"
    }
   ],
   "source": [
    "from sklearn.decomposition import PCA\n",
    "\n",
    "pca = PCA(2)\n",
    "pca_components = pca.fit_transform(rfm_scaled)\n",
    "\n",
    "plt.figure(figsize=(8, 6))\n",
    "sns.scatterplot(x=pca_components[:, 0], y=pca_components[:, 1], hue=rfm['Cluster'], palette='Set1', s=100)\n",
    "plt.title('Customer Segments (via PCA)')\n",
    "plt.xlabel('PCA Component 1')\n",
    "plt.ylabel('PCA Component 2')\n",
    "plt.legend()\n",
    "plt.grid(True)\n",
    "plt.show()\n"
   ]
  },
  {
   "cell_type": "markdown",
   "metadata": {
    "id": "6DBR5oh7FWZH"
   },
   "source": [
    "**Interpretation of Clusters**"
   ]
  },
  {
   "cell_type": "code",
   "execution_count": 22,
   "metadata": {
    "execution": {
     "iopub.execute_input": "2025-06-26T00:25:03.216335Z",
     "iopub.status.busy": "2025-06-26T00:25:03.216057Z",
     "iopub.status.idle": "2025-06-26T00:25:03.227475Z",
     "shell.execute_reply": "2025-06-26T00:25:03.226307Z",
     "shell.execute_reply.started": "2025-06-26T00:25:03.216317Z"
    },
    "id": "WOF_l1yRFIve",
    "outputId": "dbccb136-ec3c-4c64-ed02-8bcd06678b6f",
    "trusted": true
   },
   "outputs": [
    {
     "name": "stdout",
     "output_type": "stream",
     "text": [
      "         Recency  Frequency  Monetary\n",
      "Cluster                              \n",
      "0           43.0        4.5    1710.7\n",
      "1            5.6      113.6  215535.0\n",
      "2          243.0        1.7     593.5\n",
      "3           14.9       47.0   28896.4\n"
     ]
    }
   ],
   "source": [
    "cluster_summary = rfm.groupby('Cluster').mean().round(1)\n",
    "print(cluster_summary)"
   ]
  },
  {
   "cell_type": "markdown",
   "metadata": {
    "id": "YdNffGdrF-C8"
   },
   "source": [
    "| Cluster | Recency ↓ | Frequency ↑ | Monetary ↑    | Interpretation                                                                    |\n",
    "| ------- | --------- | ----------- | ------------- | --------------------------------------------------------------------------------- |\n",
    "| **0**   | 43.0      | 4.5         | 1,710.7       | 🟡 **Average customers** – moderately recent, not very frequent or high spenders. |\n",
    "| **1**   | 243.0     | 1.7         | 593.5         | 🔴 **At risk / Churned** – long inactive, low frequency and spend.                |\n",
    "| **2**   | **5.6**   | **113.6**   | **215,535.0** | 🟢 **Champions / VIPs** – very recent, very frequent, massive spenders.           |\n",
    "| **3**   | 14.9      | 47.0        | 28,896.4      | 🔵 **Loyal Customers** – active recently, frequent buyers, strong spenders.       |\n"
   ]
  },
  {
   "cell_type": "markdown",
   "metadata": {
    "id": "tdLCa28UGHoc"
   },
   "source": [
    "**Final Labels**"
   ]
  },
  {
   "cell_type": "code",
   "execution_count": 23,
   "metadata": {
    "execution": {
     "iopub.execute_input": "2025-06-26T00:25:06.01385Z",
     "iopub.status.busy": "2025-06-26T00:25:06.01341Z",
     "iopub.status.idle": "2025-06-26T00:25:06.021998Z",
     "shell.execute_reply": "2025-06-26T00:25:06.020899Z",
     "shell.execute_reply.started": "2025-06-26T00:25:06.013818Z"
    },
    "id": "mxbwruWRFY-r",
    "trusted": true
   },
   "outputs": [],
   "source": [
    "rfm['Label'] = rfm['Cluster'].map({\n",
    "    0: 'Regulars',\n",
    "    1: 'Churned',\n",
    "    2: 'Champions',\n",
    "    3: 'Loyal Customers'\n",
    "})\n"
   ]
  },
  {
   "cell_type": "code",
   "execution_count": null,
   "metadata": {
    "id": "LOssOFdRGKHF",
    "trusted": true
   },
   "outputs": [],
   "source": []
  }
 ],
 "metadata": {
  "colab": {
   "provenance": []
  },
  "kaggle": {
   "accelerator": "none",
   "dataSources": [
    {
     "datasetId": 421200,
     "sourceId": 804181,
     "sourceType": "datasetVersion"
    }
   ],
   "dockerImageVersionId": 31040,
   "isGpuEnabled": false,
   "isInternetEnabled": false,
   "language": "python",
   "sourceType": "notebook"
  },
  "kernelspec": {
   "display_name": "base",
   "language": "python",
   "name": "python3"
  },
  "language_info": {
   "codemirror_mode": {
    "name": "ipython",
    "version": 3
   },
   "file_extension": ".py",
   "mimetype": "text/x-python",
   "name": "python",
   "nbconvert_exporter": "python",
   "pygments_lexer": "ipython3",
   "version": "3.11.5"
  }
 },
 "nbformat": 4,
 "nbformat_minor": 4
}
